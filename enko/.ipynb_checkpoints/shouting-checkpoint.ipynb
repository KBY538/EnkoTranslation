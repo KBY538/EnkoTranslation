{
 "cells": [
  {
   "cell_type": "code",
   "execution_count": 1,
   "metadata": {},
   "outputs": [],
   "source": [
    "# -*- coding: utf-8 -*\n",
    "\n",
    "import random\n",
    "from random import randint\n",
    "import pandas as pd\n",
    "import csv"
   ]
  },
  {
   "cell_type": "markdown",
   "metadata": {},
   "source": [
    "# 아무말 데이터 생성"
   ]
  },
  {
   "cell_type": "code",
   "execution_count": 2,
   "metadata": {},
   "outputs": [],
   "source": [
    "MAX = 40\n",
    "\n",
    "blabla_dic = ['ㄱ', 'ㄲ', 'ㄳ', 'ㄴ', 'ㄵ', 'ㄶ', 'ㄷ', 'ㄹ', 'ㄺ', 'ㄻ', 'ㄼ', 'ㄽ', 'ㄾ', 'ㄿ', 'ㅀ', 'ㅁ', 'ㅂ', 'ㅄ', 'ㅅ', 'ㅆ', 'ㅇ', 'ㅈ', 'ㅊ', 'ㅋ', 'ㅌ', 'ㅍ', 'ㅎ',\n",
    "            'ㅏ', 'ㅐ', 'ㅑ', 'ㅒ', 'ㅓ', 'ㅔ', 'ㅕ', 'ㅖ', 'ㅗ', 'ㅘ', 'ㅙ', 'ㅚ', 'ㅛ', 'ㅜ', 'ㅝ', 'ㅞ', 'ㅟ', 'ㅠ', 'ㅡ', 'ㅢ', 'ㅣ',\n",
    "            '[', '{', ']', '}', ';', ':', '\\'', '\"', ',', '<', '.', '>', '/', '?', '\\\\', '|']\n",
    "\n",
    "blabla_dic_w = [1]*len(blabla_dic) # 가중치"
   ]
  },
  {
   "cell_type": "code",
   "execution_count": 3,
   "metadata": {},
   "outputs": [],
   "source": [
    "# 아무말\n",
    "blabla = \"ㅁ;ㄴㄷ겅ㄹ;믾공ㅋ;ㅣ아러;킬ㄴ어;민덩ㄹ;ㅣㅁ니아러;ㅁㅈㄷ 너;ㅍ미느ㅓㅇ;ㄹㅊㅁㄴ댜ㅣㅓㅇㄱㄹ튜ㅣㅜㅊㄹ파ㅜㅎ터ㅡㅏ흫나엋루ㅚㅁㅈ댜ㅡㄹ태먀농ㅋㄹ;ㅐㅓ넬,태먀전ㄷ;키아ㅓㄹㅊ큉ㅁㄴ카ㅗ힠ㄴ더;램댜것;먀ㅗㅋㄴㅇㅌㄹ;ㅣㅏㅋㄴ;ㅌㅇㅎ ㅣㅗㅋㄴ;ㅇ럼 ;ㅊㅋ니ㅏㅇ러츠;ㅁ니ㅏㅇ러;민ㄹ어;ㅣㄴ커우;ㅍ리먼ㅊㅋㄷ;ㅡ잍ㅁ저;ㄴ디아렄ㄴ;ㅣㅌ아러;ㄴ키유러;핌ㄴ처우;ㅢ만ㄷ터ㅡ;ㅇ리맞넏ㄱ이ㅠㅏㅓ;ㅍ뉭ㄹㅊㅎ;ㅡㅓ캐능;ㅓㄹ캧얄초휘ㅑㅕㅠㅣ잗넝ㅎ룀냐ㅗㅍ;귲ㅁ챋ㄴ;캐야허ㅌ에ㅙㄹ;으ㅐㅎ랴ㅚ나류ㅗ침파ㅠ뉴ㅗ맃ㅁ냐ㅗㅎ탕ㅎ라며뵿쥴ㅊ며ㅑㄴ호ㅡㅔㅇㄱ로ㅡㅓㅔ패탸올;ㅊ캐냐루칰내야ㅗ류ㅣ아ㅓ로ㅠㅁㅊ주댩읜야ㅐㄹ혼ㅇ;ㅠㅑㅗ루민야로피ㅠㅁㅊ녈ㅇㅎ티먀녀됴육;ㅍㅁ냧을티\""
   ]
  },
  {
   "cell_type": "code",
   "execution_count": 4,
   "metadata": {},
   "outputs": [],
   "source": [
    "for c in blabla:\n",
    "    if c in blabla_dic:\n",
    "        idx = blabla_dic.index(c)\n",
    "        blabla_dic_w[idx] = blabla_dic_w[idx] + 1\n",
    "    else:\n",
    "        blabla_dic.append(c)\n",
    "        blabla_dic_w.append(1)"
   ]
  },
  {
   "cell_type": "code",
   "execution_count": 5,
   "metadata": {},
   "outputs": [],
   "source": [
    "filedir = 'data/blabla.csv' # 아무말 데이터 저장\n",
    "n = 56000 # 생성할 아무말 수"
   ]
  },
  {
   "cell_type": "markdown",
   "metadata": {},
   "source": [
    "아무말 데이터를 생성하고 저장한다.  \n",
    "시작은 한 56,000개 정도?"
   ]
  },
  {
   "cell_type": "code",
   "execution_count": 6,
   "metadata": {},
   "outputs": [],
   "source": [
    "f = open(filedir, 'w', encoding='utf-8', newline='')\n",
    "wr = csv.writer(f)\n",
    "s = \"\"\n",
    "\n",
    "for i in range(n):\n",
    "    for j in range(randint(5, MAX)):\n",
    "        s = s + \"\".join(random.choices(blabla_dic, weights=blabla_dic_w))\n",
    "    wr.writerow([1, s]) # 1은 아무말이라는 뜻\n",
    "    s = \"\"\n",
    "    \n",
    "f.close()"
   ]
  },
  {
   "cell_type": "markdown",
   "metadata": {},
   "source": [
    "# 의미 있는 말 데이터\n",
    "## 1. 요약 데이터\n",
    "sae4k_v1.txt  \n",
    "sae4k_v2.txt"
   ]
  },
  {
   "cell_type": "code",
   "execution_count": 7,
   "metadata": {},
   "outputs": [
    {
     "data": {
      "text/html": [
       "<div>\n",
       "<style scoped>\n",
       "    .dataframe tbody tr th:only-of-type {\n",
       "        vertical-align: middle;\n",
       "    }\n",
       "\n",
       "    .dataframe tbody tr th {\n",
       "        vertical-align: top;\n",
       "    }\n",
       "\n",
       "    .dataframe thead th {\n",
       "        text-align: right;\n",
       "    }\n",
       "</style>\n",
       "<table border=\"1\" class=\"dataframe\">\n",
       "  <thead>\n",
       "    <tr style=\"text-align: right;\">\n",
       "      <th></th>\n",
       "      <th>전문</th>\n",
       "      <th>요약</th>\n",
       "      <th>분류</th>\n",
       "    </tr>\n",
       "  </thead>\n",
       "  <tbody>\n",
       "    <tr>\n",
       "      <th>0</th>\n",
       "      <td>최근 한 달 동안 학교에서 메일이 온 적이 있는지 확인해줘</td>\n",
       "      <td>한달동안 학교에서 메일 온 적 있는지</td>\n",
       "      <td>0</td>\n",
       "    </tr>\n",
       "    <tr>\n",
       "      <th>1</th>\n",
       "      <td>다리미 전원 켜져있는지 확인해줄 수 있니</td>\n",
       "      <td>다리미 전원 켜져있는지</td>\n",
       "      <td>0</td>\n",
       "    </tr>\n",
       "    <tr>\n",
       "      <th>2</th>\n",
       "      <td>오늘 체감온도가 어느 정도이니</td>\n",
       "      <td>오늘 체감온도</td>\n",
       "      <td>2</td>\n",
       "    </tr>\n",
       "    <tr>\n",
       "      <th>3</th>\n",
       "      <td>오늘 하루 에어컨 컨센트를 꺼 줘</td>\n",
       "      <td>오늘 하루 에어컨 컨센트 끄기</td>\n",
       "      <td>4</td>\n",
       "    </tr>\n",
       "    <tr>\n",
       "      <th>4</th>\n",
       "      <td>오늘 남은 약속들 전부 취소해줘</td>\n",
       "      <td>오늘 남은 약속들 전부 취소하기</td>\n",
       "      <td>4</td>\n",
       "    </tr>\n",
       "  </tbody>\n",
       "</table>\n",
       "</div>"
      ],
      "text/plain": [
       "                                 전문                    요약  분류\n",
       "0  최근 한 달 동안 학교에서 메일이 온 적이 있는지 확인해줘  한달동안 학교에서 메일 온 적 있는지   0\n",
       "1            다리미 전원 켜져있는지 확인해줄 수 있니          다리미 전원 켜져있는지   0\n",
       "2                  오늘 체감온도가 어느 정도이니               오늘 체감온도   2\n",
       "3                오늘 하루 에어컨 컨센트를 꺼 줘      오늘 하루 에어컨 컨센트 끄기   4\n",
       "4                 오늘 남은 약속들 전부 취소해줘     오늘 남은 약속들 전부 취소하기   4"
      ]
     },
     "execution_count": 7,
     "metadata": {},
     "output_type": "execute_result"
    }
   ],
   "source": [
    "meaningful_data1 = pd.read_csv('data/sae4k_v1.txt', delimiter='\\t')\n",
    "meaningful_data1.head()"
   ]
  },
  {
   "cell_type": "markdown",
   "metadata": {},
   "source": [
    "여기서 요약의 모양새가 검색어와 비슷하다.  \n",
    "따라서 요약과 분류만 사용하고 분류는 일괄적으로 0으로 지정한다.  \n",
    "이는 아무말이 아니라는 뜻이다."
   ]
  },
  {
   "cell_type": "code",
   "execution_count": 8,
   "metadata": {},
   "outputs": [
    {
     "data": {
      "text/html": [
       "<div>\n",
       "<style scoped>\n",
       "    .dataframe tbody tr th:only-of-type {\n",
       "        vertical-align: middle;\n",
       "    }\n",
       "\n",
       "    .dataframe tbody tr th {\n",
       "        vertical-align: top;\n",
       "    }\n",
       "\n",
       "    .dataframe thead th {\n",
       "        text-align: right;\n",
       "    }\n",
       "</style>\n",
       "<table border=\"1\" class=\"dataframe\">\n",
       "  <thead>\n",
       "    <tr style=\"text-align: right;\">\n",
       "      <th></th>\n",
       "      <th>분류</th>\n",
       "      <th>요약</th>\n",
       "    </tr>\n",
       "  </thead>\n",
       "  <tbody>\n",
       "    <tr>\n",
       "      <th>0</th>\n",
       "      <td>0</td>\n",
       "      <td>한달동안 학교에서 메일 온 적 있는지</td>\n",
       "    </tr>\n",
       "    <tr>\n",
       "      <th>1</th>\n",
       "      <td>0</td>\n",
       "      <td>다리미 전원 켜져있는지</td>\n",
       "    </tr>\n",
       "    <tr>\n",
       "      <th>2</th>\n",
       "      <td>0</td>\n",
       "      <td>오늘 체감온도</td>\n",
       "    </tr>\n",
       "    <tr>\n",
       "      <th>3</th>\n",
       "      <td>0</td>\n",
       "      <td>오늘 하루 에어컨 컨센트 끄기</td>\n",
       "    </tr>\n",
       "    <tr>\n",
       "      <th>4</th>\n",
       "      <td>0</td>\n",
       "      <td>오늘 남은 약속들 전부 취소하기</td>\n",
       "    </tr>\n",
       "  </tbody>\n",
       "</table>\n",
       "</div>"
      ],
      "text/plain": [
       "   분류                    요약\n",
       "0   0  한달동안 학교에서 메일 온 적 있는지\n",
       "1   0          다리미 전원 켜져있는지\n",
       "2   0               오늘 체감온도\n",
       "3   0      오늘 하루 에어컨 컨센트 끄기\n",
       "4   0     오늘 남은 약속들 전부 취소하기"
      ]
     },
     "execution_count": 8,
     "metadata": {},
     "output_type": "execute_result"
    }
   ],
   "source": [
    "del meaningful_data1['전문']\n",
    "meaningful_data1['분류'] = 0\n",
    "meaningful_data1 = meaningful_data1[['분류', '요약']]\n",
    "meaningful_data1.head()"
   ]
  },
  {
   "cell_type": "markdown",
   "metadata": {},
   "source": [
    "sae4k_v2.txt 파일에 대해서도 같은 식으로 처리해준다."
   ]
  },
  {
   "cell_type": "code",
   "execution_count": 9,
   "metadata": {},
   "outputs": [
    {
     "data": {
      "text/html": [
       "<div>\n",
       "<style scoped>\n",
       "    .dataframe tbody tr th:only-of-type {\n",
       "        vertical-align: middle;\n",
       "    }\n",
       "\n",
       "    .dataframe tbody tr th {\n",
       "        vertical-align: top;\n",
       "    }\n",
       "\n",
       "    .dataframe thead th {\n",
       "        text-align: right;\n",
       "    }\n",
       "</style>\n",
       "<table border=\"1\" class=\"dataframe\">\n",
       "  <thead>\n",
       "    <tr style=\"text-align: right;\">\n",
       "      <th></th>\n",
       "      <th>분류</th>\n",
       "      <th>전문</th>\n",
       "      <th>요약</th>\n",
       "    </tr>\n",
       "  </thead>\n",
       "  <tbody>\n",
       "    <tr>\n",
       "      <th>0</th>\n",
       "      <td>2</td>\n",
       "      <td>이번 주에 기온변화가 가장 큰 요일을 알려줘</td>\n",
       "      <td>이번 주 기온변화 가장 큰 요일</td>\n",
       "    </tr>\n",
       "    <tr>\n",
       "      <th>1</th>\n",
       "      <td>0</td>\n",
       "      <td>공기청정기 켜져있니</td>\n",
       "      <td>공기청정기 켜졌는지</td>\n",
       "    </tr>\n",
       "    <tr>\n",
       "      <th>2</th>\n",
       "      <td>0</td>\n",
       "      <td>오늘 오후에 수영대회가 있니</td>\n",
       "      <td>오늘 오후 수영대회 여부</td>\n",
       "    </tr>\n",
       "    <tr>\n",
       "      <th>3</th>\n",
       "      <td>3</td>\n",
       "      <td>가급적 아이리버 엠피쓰리는 사지 않도록 합시다</td>\n",
       "      <td>아이리버 엠피쓰리 사지 않기</td>\n",
       "    </tr>\n",
       "    <tr>\n",
       "      <th>4</th>\n",
       "      <td>3</td>\n",
       "      <td>전체 메일을 쓸 때 민감한 내용은 쓰지마</td>\n",
       "      <td>민감한 내용 전체메일 보내지 않기</td>\n",
       "    </tr>\n",
       "  </tbody>\n",
       "</table>\n",
       "</div>"
      ],
      "text/plain": [
       "   분류                          전문                  요약\n",
       "0   2    이번 주에 기온변화가 가장 큰 요일을 알려줘   이번 주 기온변화 가장 큰 요일\n",
       "1   0                  공기청정기 켜져있니          공기청정기 켜졌는지\n",
       "2   0             오늘 오후에 수영대회가 있니       오늘 오후 수영대회 여부\n",
       "3   3  가급적 아이리버 엠피쓰리는 사지 않도록 합시다      아이리버 엠피쓰리 사지 않기\n",
       "4   3      전체 메일을 쓸 때 민감한 내용은 쓰지마  민감한 내용 전체메일 보내지 않기"
      ]
     },
     "execution_count": 9,
     "metadata": {},
     "output_type": "execute_result"
    }
   ],
   "source": [
    "meaningful_data2 = pd.read_csv('data/sae4k_v2.txt', delimiter='\\t')\n",
    "meaningful_data2.head()"
   ]
  },
  {
   "cell_type": "code",
   "execution_count": 10,
   "metadata": {},
   "outputs": [
    {
     "data": {
      "text/html": [
       "<div>\n",
       "<style scoped>\n",
       "    .dataframe tbody tr th:only-of-type {\n",
       "        vertical-align: middle;\n",
       "    }\n",
       "\n",
       "    .dataframe tbody tr th {\n",
       "        vertical-align: top;\n",
       "    }\n",
       "\n",
       "    .dataframe thead th {\n",
       "        text-align: right;\n",
       "    }\n",
       "</style>\n",
       "<table border=\"1\" class=\"dataframe\">\n",
       "  <thead>\n",
       "    <tr style=\"text-align: right;\">\n",
       "      <th></th>\n",
       "      <th>분류</th>\n",
       "      <th>요약</th>\n",
       "    </tr>\n",
       "  </thead>\n",
       "  <tbody>\n",
       "    <tr>\n",
       "      <th>0</th>\n",
       "      <td>0</td>\n",
       "      <td>이번 주 기온변화 가장 큰 요일</td>\n",
       "    </tr>\n",
       "    <tr>\n",
       "      <th>1</th>\n",
       "      <td>0</td>\n",
       "      <td>공기청정기 켜졌는지</td>\n",
       "    </tr>\n",
       "    <tr>\n",
       "      <th>2</th>\n",
       "      <td>0</td>\n",
       "      <td>오늘 오후 수영대회 여부</td>\n",
       "    </tr>\n",
       "    <tr>\n",
       "      <th>3</th>\n",
       "      <td>0</td>\n",
       "      <td>아이리버 엠피쓰리 사지 않기</td>\n",
       "    </tr>\n",
       "    <tr>\n",
       "      <th>4</th>\n",
       "      <td>0</td>\n",
       "      <td>민감한 내용 전체메일 보내지 않기</td>\n",
       "    </tr>\n",
       "  </tbody>\n",
       "</table>\n",
       "</div>"
      ],
      "text/plain": [
       "   분류                  요약\n",
       "0   0   이번 주 기온변화 가장 큰 요일\n",
       "1   0          공기청정기 켜졌는지\n",
       "2   0       오늘 오후 수영대회 여부\n",
       "3   0     아이리버 엠피쓰리 사지 않기\n",
       "4   0  민감한 내용 전체메일 보내지 않기"
      ]
     },
     "execution_count": 10,
     "metadata": {},
     "output_type": "execute_result"
    }
   ],
   "source": [
    "del meaningful_data2['전문']\n",
    "meaningful_data2['분류'] = 0\n",
    "meaningful_data2.head()"
   ]
  },
  {
   "cell_type": "markdown",
   "metadata": {},
   "source": [
    "두 데이터를 합친다."
   ]
  },
  {
   "cell_type": "code",
   "execution_count": 11,
   "metadata": {},
   "outputs": [
    {
     "data": {
      "text/plain": [
       "분류    81674\n",
       "요약    81674\n",
       "dtype: int64"
      ]
     },
     "execution_count": 11,
     "metadata": {},
     "output_type": "execute_result"
    }
   ],
   "source": [
    "meaningful_data = pd.concat([meaningful_data1,meaningful_data2], ignore_index=True)\n",
    "meaningful_data.count()"
   ]
  },
  {
   "cell_type": "markdown",
   "metadata": {},
   "source": [
    "## 2. 요약 데이터의 초성 데이터"
   ]
  },
  {
   "cell_type": "code",
   "execution_count": 12,
   "metadata": {},
   "outputs": [
    {
     "data": {
      "text/plain": [
       "'ᄆᄋᄒᄃ ᄋᄀ ᄇᄋᄌᄅᄀ ᄋᄀᄅᄁᄋᄃ ᄂᄅᄐ ᄉᄉᄏ ᄊᄋᄉᄌ ㄹㅇᄉᄒᄂ'"
      ]
     },
     "execution_count": 12,
     "metadata": {},
     "output_type": "execute_result"
    }
   ],
   "source": [
    "# 한글 문자열에서 초성 추출하는 코드\n",
    "# 참고: https://smlee729.github.io/python/natural%20language%20processing/2015/12/24/korean-letter-processing-part1.html\n",
    "def getChosung(text):\n",
    "\n",
    "    CHOSUNG_START_LETTER = 0x1100 # 초성 시작\n",
    "    \n",
    "    JAMO_START_LETTER = 0x3131 # 자음, 모음 시작\n",
    "    \n",
    "    JAMO_END_LETTER = 0x319E # 자음, 모음 끝\n",
    "\n",
    "    MJUL_START_LETTER = 0xAC00 # 음절 시작\n",
    "\n",
    "    MJUL_END_LETTER = 0xDCAF # 음절 끝\n",
    "\n",
    "    MJUL_CYCLE = 588 # 자음에 따른 음절 사이클\n",
    "\n",
    "    result = \"\"\n",
    "\n",
    "    for ch in text:\n",
    "\n",
    "        if ord(ch) >= MJUL_START_LETTER and ord(ch) <= MJUL_END_LETTER: # 한글은 자음으로 변환\n",
    "\n",
    "            result += chr(int((ord(ch) - MJUL_START_LETTER)/MJUL_CYCLE + CHOSUNG_START_LETTER))\n",
    "        \n",
    "        elif ord(ch) == 0x20: # 띄어쓰기는 그대로\n",
    "            \n",
    "            result += ch\n",
    "        \n",
    "        elif ord(ch) >= JAMO_START_LETTER and ord(ch) <= JAMO_END_LETTER: # 원래 초성인 것도 그대로\n",
    "            \n",
    "            result += ch\n",
    "            \n",
    "    return result\n",
    "\n",
    "# 테스트\n",
    "getChosung(\"미안하다 이거 보여주려고 어그로끌었다.. 나루토 사스케 싸움수준 ㄹㅇ실화냐?\")"
   ]
  },
  {
   "cell_type": "markdown",
   "metadata": {},
   "source": [
    "이제 데이터에 적용한다."
   ]
  },
  {
   "cell_type": "code",
   "execution_count": 13,
   "metadata": {},
   "outputs": [
    {
     "data": {
      "text/html": [
       "<div>\n",
       "<style scoped>\n",
       "    .dataframe tbody tr th:only-of-type {\n",
       "        vertical-align: middle;\n",
       "    }\n",
       "\n",
       "    .dataframe tbody tr th {\n",
       "        vertical-align: top;\n",
       "    }\n",
       "\n",
       "    .dataframe thead th {\n",
       "        text-align: right;\n",
       "    }\n",
       "</style>\n",
       "<table border=\"1\" class=\"dataframe\">\n",
       "  <thead>\n",
       "    <tr style=\"text-align: right;\">\n",
       "      <th></th>\n",
       "      <th>분류</th>\n",
       "      <th>요약</th>\n",
       "    </tr>\n",
       "  </thead>\n",
       "  <tbody>\n",
       "    <tr>\n",
       "      <th>0</th>\n",
       "      <td>0</td>\n",
       "      <td>ᄒᄃᄃᄋ ᄒᄀᄋᄉ ᄆᄋ ᄋ ᄌ ᄋᄂᄌ</td>\n",
       "    </tr>\n",
       "    <tr>\n",
       "      <th>1</th>\n",
       "      <td>0</td>\n",
       "      <td>ᄃᄅᄆ ᄌᄋ ᄏᄌᄋᄂᄌ</td>\n",
       "    </tr>\n",
       "    <tr>\n",
       "      <th>2</th>\n",
       "      <td>0</td>\n",
       "      <td>ᄋᄂ ᄎᄀᄋᄃ</td>\n",
       "    </tr>\n",
       "    <tr>\n",
       "      <th>3</th>\n",
       "      <td>0</td>\n",
       "      <td>ᄋᄂ ᄒᄅ ᄋᄋᄏ ᄏᄉᄐ ᄁᄀ</td>\n",
       "    </tr>\n",
       "    <tr>\n",
       "      <th>4</th>\n",
       "      <td>0</td>\n",
       "      <td>ᄋᄂ ᄂᄋ ᄋᄉᄃ ᄌᄇ ᄎᄉᄒᄀ</td>\n",
       "    </tr>\n",
       "  </tbody>\n",
       "</table>\n",
       "</div>"
      ],
      "text/plain": [
       "   분류                    요약\n",
       "0   0  ᄒᄃᄃᄋ ᄒᄀᄋᄉ ᄆᄋ ᄋ ᄌ ᄋᄂᄌ\n",
       "1   0          ᄃᄅᄆ ᄌᄋ ᄏᄌᄋᄂᄌ\n",
       "2   0               ᄋᄂ ᄎᄀᄋᄃ\n",
       "3   0      ᄋᄂ ᄒᄅ ᄋᄋᄏ ᄏᄉᄐ ᄁᄀ\n",
       "4   0     ᄋᄂ ᄂᄋ ᄋᄉᄃ ᄌᄇ ᄎᄉᄒᄀ"
      ]
     },
     "execution_count": 13,
     "metadata": {},
     "output_type": "execute_result"
    }
   ],
   "source": [
    "pd.set_option('mode.chained_assignment',  None)\n",
    "\n",
    "for i, s in enumerate(meaningful_data1['요약']):\n",
    "    meaningful_data1['요약'][i] = getChosung(s)\n",
    "    \n",
    "meaningful_data1.head()"
   ]
  },
  {
   "cell_type": "code",
   "execution_count": 14,
   "metadata": {},
   "outputs": [
    {
     "data": {
      "text/html": [
       "<div>\n",
       "<style scoped>\n",
       "    .dataframe tbody tr th:only-of-type {\n",
       "        vertical-align: middle;\n",
       "    }\n",
       "\n",
       "    .dataframe tbody tr th {\n",
       "        vertical-align: top;\n",
       "    }\n",
       "\n",
       "    .dataframe thead th {\n",
       "        text-align: right;\n",
       "    }\n",
       "</style>\n",
       "<table border=\"1\" class=\"dataframe\">\n",
       "  <thead>\n",
       "    <tr style=\"text-align: right;\">\n",
       "      <th></th>\n",
       "      <th>분류</th>\n",
       "      <th>요약</th>\n",
       "    </tr>\n",
       "  </thead>\n",
       "  <tbody>\n",
       "    <tr>\n",
       "      <th>0</th>\n",
       "      <td>0</td>\n",
       "      <td>ᄋᄇ ᄌ ᄀᄋᄇᄒ ᄀᄌ ᄏ ᄋᄋ</td>\n",
       "    </tr>\n",
       "    <tr>\n",
       "      <th>1</th>\n",
       "      <td>0</td>\n",
       "      <td>ᄀᄀᄎᄌᄀ ᄏᄌᄂᄌ</td>\n",
       "    </tr>\n",
       "    <tr>\n",
       "      <th>2</th>\n",
       "      <td>0</td>\n",
       "      <td>ᄋᄂ ᄋᄒ ᄉᄋᄃᄒ ᄋᄇ</td>\n",
       "    </tr>\n",
       "    <tr>\n",
       "      <th>3</th>\n",
       "      <td>0</td>\n",
       "      <td>ᄋᄋᄅᄇ ᄋᄑᄊᄅ ᄉᄌ ᄋᄀ</td>\n",
       "    </tr>\n",
       "    <tr>\n",
       "      <th>4</th>\n",
       "      <td>0</td>\n",
       "      <td>ᄆᄀᄒ ᄂᄋ ᄌᄎᄆᄋ ᄇᄂᄌ ᄋᄀ</td>\n",
       "    </tr>\n",
       "  </tbody>\n",
       "</table>\n",
       "</div>"
      ],
      "text/plain": [
       "   분류                  요약\n",
       "0   0   ᄋᄇ ᄌ ᄀᄋᄇᄒ ᄀᄌ ᄏ ᄋᄋ\n",
       "1   0          ᄀᄀᄎᄌᄀ ᄏᄌᄂᄌ\n",
       "2   0       ᄋᄂ ᄋᄒ ᄉᄋᄃᄒ ᄋᄇ\n",
       "3   0     ᄋᄋᄅᄇ ᄋᄑᄊᄅ ᄉᄌ ᄋᄀ\n",
       "4   0  ᄆᄀᄒ ᄂᄋ ᄌᄎᄆᄋ ᄇᄂᄌ ᄋᄀ"
      ]
     },
     "execution_count": 14,
     "metadata": {},
     "output_type": "execute_result"
    }
   ],
   "source": [
    "for j, t in enumerate(meaningful_data2['요약']):\n",
    "    meaningful_data2['요약'][j] = getChosung(t)\n",
    "    \n",
    "meaningful_data2.head()"
   ]
  },
  {
   "cell_type": "code",
   "execution_count": 15,
   "metadata": {},
   "outputs": [
    {
     "data": {
      "text/plain": [
       "분류    55135\n",
       "요약    55135\n",
       "dtype: int64"
      ]
     },
     "execution_count": 15,
     "metadata": {},
     "output_type": "execute_result"
    }
   ],
   "source": [
    "meaningful_data = pd.concat([meaningful_data, meaningful_data1,meaningful_data2], ignore_index=True)\n",
    "meaningful_data.drop_duplicates(inplace=True)\n",
    "meaningful_data.count()"
   ]
  },
  {
   "cell_type": "markdown",
   "metadata": {},
   "source": [
    "생성한 의미 있는 말을 저장한다."
   ]
  },
  {
   "cell_type": "code",
   "execution_count": 16,
   "metadata": {},
   "outputs": [],
   "source": [
    "meaningful_data.to_csv(\"data/horse.csv\")"
   ]
  }
 ],
 "metadata": {
  "kernelspec": {
   "display_name": "Python 3",
   "language": "python",
   "name": "python3"
  },
  "language_info": {
   "codemirror_mode": {
    "name": "ipython",
    "version": 3
   },
   "file_extension": ".py",
   "mimetype": "text/x-python",
   "name": "python",
   "nbconvert_exporter": "python",
   "pygments_lexer": "ipython3",
   "version": "3.7.3"
  }
 },
 "nbformat": 4,
 "nbformat_minor": 2
}
